{
  "nbformat": 4,
  "nbformat_minor": 0,
  "metadata": {
    "colab": {
      "provenance": [],
      "authorship_tag": "ABX9TyNSGAyh53/Z7LdlDdpLTqw4",
      "include_colab_link": true
    },
    "kernelspec": {
      "name": "python3",
      "display_name": "Python 3"
    },
    "language_info": {
      "name": "python"
    }
  },
  "cells": [
    {
      "cell_type": "markdown",
      "metadata": {
        "id": "view-in-github",
        "colab_type": "text"
      },
      "source": [
        "<a href=\"https://colab.research.google.com/github/Miuuu13/LONG_READ_pipeline/blob/main/LONG_READ_pipeline.ipynb\" target=\"_parent\"><img src=\"https://colab.research.google.com/assets/colab-badge.svg\" alt=\"Open In Colab\"/></a>"
      ]
    },
    {
      "cell_type": "code",
      "execution_count": null,
      "metadata": {
        "id": "KxtikEQYlE-L"
      },
      "outputs": [],
      "source": []
    },
    {
      "cell_type": "markdown",
      "source": [
        "Project: LONG READ\n",
        "\n",
        "start: 08.02.2024\n",
        "\n",
        "Steps to take:\n",
        "\n",
        "* generate long read data\n",
        "* split the single long read to fragments that can be put into a NN\n",
        "* Basecalling on fragments\n",
        "* Realign sequence fragments\n",
        "* Keep overlap? to ensure that correct fragments are combined in the correct order\n",
        "\n",
        "* Use Nextflow?\n",
        "\n",
        "* Make a repo on my machine or should I try it in Colab?\n",
        "\n"
      ],
      "metadata": {
        "id": "3xUnCyU7lNHo"
      }
    }
  ]
}